{
 "cells": [
  {
   "cell_type": "code",
   "execution_count": 491,
   "id": "3beaa0c9",
   "metadata": {},
   "outputs": [],
   "source": [
    "import pandas as pd\n",
    "from bs4 import BeautifulSoup\n",
    "import requests\n",
    "\n",
    "main_url='https://www.cardekho.com/filter/new-cars'\n",
    "soup=get_response_from_url(main_url)\n",
    "headers = {\n",
    "    'User-Agent': 'Mozilla/5.0 (Windows NT 10.0; Win64; x64) AppleWebKit/537.36 (KHTML, like Gecko) Chrome/91.0.4472.124 Safari/537.36'\n",
    "}\n",
    "def get_response_from_url(url,headers=headers):\n",
    "    response=requests.get(url,headers=headers)\n",
    "    return BeautifulSoup(response.content,'html.parser')"
   ]
  },
  {
   "cell_type": "code",
   "execution_count": 492,
   "id": "c7b7c415",
   "metadata": {},
   "outputs": [],
   "source": [
    "def table_page_url(url):\n",
    "    base='https://www.cardekho.com'\n",
    "    varient_details=[]\n",
    "    soup=get_response_from_url(url)\n",
    "    table_tag = soup.find('table', class_='allvariant contentHold')\n",
    "    if table_tag:\n",
    "        # Finding all <td> tags within the table\n",
    "        td_tags = table_tag.find_all('td')\n",
    "\n",
    "        for td in td_tags:\n",
    "            variant_link = td.find('a')\n",
    "            if variant_link:\n",
    "                variant_url = variant_link['href']\n",
    "                varient_details.append(extract_final_details(base+variant_url))\n",
    "    return varient_details\n",
    "                "
   ]
  },
  {
   "cell_type": "code",
   "execution_count": 493,
   "id": "f78a9e0b",
   "metadata": {},
   "outputs": [],
   "source": [
    "def extract_final_details(url):\n",
    "    soup=get_response_from_url(url)\n",
    "    \n",
    "    Key_Spec_list=[]\n",
    "    #key_specs=[row.get_text(strip=True) for row in soup.find('div',attrs={'data-track-section':'Key Specifications'})]\n",
    "    key_specs=soup.find('div',attrs={'data-track-section':'Key Specifications'})\n",
    "    if key_specs:\n",
    "        Key_sp=key_specs.find_all('tr')\n",
    "        for tr in Key_sp:\n",
    "            Key_Spec_list.append(tr.get_text(strip=True))\n",
    "\n",
    "\n",
    "    Top_Features_list=[]\n",
    "    top_features = soup.find('div', attrs={'data-track-section': 'Top Features'})\n",
    "    #top_features_div = [row.get_text(strip=True) for row in top_features.find_all('ul')]\n",
    "    if top_features:\n",
    "        Top=top_features.find_all('ul')\n",
    "        for t in Top: \n",
    "            Top_features=t.find_all('li')\n",
    "            for li in Top_features:\n",
    "                if li.find('i',class_='icon-check'):\n",
    "                    Top_Features_list.append(li.get_text(strip=True))\n",
    "\n",
    "    Price_Detail_list=[]\n",
    "    Price_tag = soup.find('section', id='OnRoadPrice')\n",
    "    if Price_tag:\n",
    "        All_combined_Prices = Price_tag.find_all('tr')\n",
    "        for prices in All_combined_Prices:\n",
    "            for p in prices.find_all('span', class_='othersinfo'):\n",
    "                p.decompose()\n",
    "            Price_Detail_list.append(prices.get_text(strip=True))\n",
    "\n",
    "    Spec_Feature_list=[]\n",
    "    Spec_features=soup.find('div',class_='specsTblNew')\n",
    "    if Spec_features:\n",
    "        #all_specs=[ r.get_text() for r in Spec_features.find_all('tr')]\n",
    "        all_specs=Spec_features.find_all('tr')\n",
    "        for rows in all_specs:\n",
    "            row=rows.find_all('td')\n",
    "            for r in row:\n",
    "                for x in r.find_all('div',class_='tootTipCtr'):\n",
    "                    x.decompose()\n",
    "                for y in r.find_all('span',class_='link hover wrongprice'):\n",
    "                    y.decompose()\n",
    "                for z in r.find_all('i',class_='icon-deletearrow'):\n",
    "                    z.append('No')\n",
    "                for k in r.find_all('i',class_='icon-check'):\n",
    "                    k.append('Yes')\n",
    "                Spec_Feature_list.append(r.get_text(strip=True))\n",
    "\n",
    "\n",
    "    fetching_name= soup.find_all('div',class_='gsc_col-xs-12 gsc_col-sm-12 gsc_col-md-7 gsc_col-lg-7 overviewdetail')\n",
    "    for model in fetching_name:\n",
    "        Car_name=model.find('h1',class_='displayInlineBlock')\n",
    "        Car_name\n",
    "\n",
    "    def listToString(s):\n",
    "        stg =\"\"\n",
    "        for x in s:\n",
    "            stg= stg + x + '\t'\n",
    "        return stg.rstrip()\n",
    "\n",
    "    car_details={}\n",
    "    car_details['name']=Car_name.text\n",
    "    car_details['price_details']=listToString(Price_Detail_list)\n",
    "    car_details['top_features']=listToString(Top_Features_list)\n",
    "    car_details['key_specs']=listToString(Key_Spec_list)\n",
    "    car_details['all_features_and_specs']=listToString(Spec_Feature_list)\n",
    "\n",
    "    #car_details_df=pd.DataFrame([car_details])\n",
    "    \n",
    "    return car_details\n",
    "    "
   ]
  },
  {
   "cell_type": "code",
   "execution_count": 495,
   "id": "09ce6d0a",
   "metadata": {},
   "outputs": [],
   "source": [
    "base='https://www.cardekho.com'\n",
    "total_models=soup.find_all('div',class_='gsc_col-md-12 gsc_col-sm-12 gsc_col-xs-12 append_list')\n",
    "varient_details=[]\n",
    "for model in total_models:\n",
    "    h3_tag=model.find('h3')\n",
    "    if h3_tag:\n",
    "        a_tag= h3_tag.find('a',href=True)\n",
    "        if a_tag:\n",
    "            page2_url=a_tag['href']\n",
    "            varient_details.extend(table_page_url(base+page2_url))\n",
    "\n",
    "car_data=pd.DataFrame(varient_details)"
   ]
  },
  {
   "cell_type": "code",
   "execution_count": 498,
   "id": "726799dc",
   "metadata": {},
   "outputs": [],
   "source": [
    "car_data.to_csv('Alldata.csv')"
   ]
  },
  {
   "cell_type": "code",
   "execution_count": 471,
   "id": "d349c2da",
   "metadata": {
    "scrolled": false
   },
   "outputs": [],
   "source": [
    "import pandas as pd\n",
    "from bs4 import BeautifulSoup\n",
    "import requests\n",
    "\n",
    "main_url='https://www.cardekho.com/filter/new-cars'\n",
    "\n",
    "# Parsing the HTML content with BeautifulSoup\n",
    "url='https://www.cardekho.com/overview/Mahindra_XUV700/Mahindra_XUV700_MX_5Str.htm'\n",
    "headers = {\n",
    "    'User-Agent': 'Mozilla/5.0 (Windows NT 10.0; Win64; x64) AppleWebKit/537.36 (KHTML, like Gecko) Chrome/91.0.4472.124 Safari/537.36'\n",
    "}\n",
    "df=pd.DataFrame(columns=['Car_Name','Car_Price','Car_Engine_Capacity','Car_Mileage'],index=None)\n",
    "def get_response_from_url(url,headers=headers):\n",
    "    response=requests.get(url,headers=headers)\n",
    "    return BeautifulSoup(response.content,'html.parser')\n",
    "\n",
    "soup=get_response_from_url(url)\n",
    "\n",
    "Key_Spec_list=[]\n",
    "#key_specs=[row.get_text(strip=True) for row in soup.find('div',attrs={'data-track-section':'Key Specifications'})]\n",
    "key_specs=soup.find('div',attrs={'data-track-section':'Key Specifications'})\n",
    "if key_specs:\n",
    "    Key_sp=key_specs.find_all('tr')\n",
    "    for tr in Key_sp:\n",
    "        Key_Spec_list.append(tr.get_text(strip=True))\n",
    "\n",
    "#print(Key_Spec_list)\n",
    "\n",
    "\n",
    "Top_Features_list=[]\n",
    "top_features = soup.find('div', attrs={'data-track-section': 'Top Features'})\n",
    "#top_features_div = [row.get_text(strip=True) for row in top_features.find_all('ul')]\n",
    "if top_features:\n",
    "    Top=top_features.find_all('ul')\n",
    "    for t in Top: \n",
    "        Top_features=t.find_all('li')\n",
    "        for li in Top_features:\n",
    "            if li.find('i',class_='icon-check'):\n",
    "                Top_Features_list.append(li.get_text(strip=True))\n",
    "\n",
    "#print(Top_Features_list)\n",
    "\n",
    "Price_Detail_list=[]\n",
    "Price_tag = soup.find('section', id='OnRoadPrice')\n",
    "if Price_tag:\n",
    "    All_combined_Prices = Price_tag.find_all('tr')\n",
    "    for prices in All_combined_Prices:\n",
    "        for p in prices.find_all('span', class_='othersinfo'):\n",
    "            p.decompose()\n",
    "        Price_Detail_list.append(prices.get_text(strip=True))\n",
    "\n",
    "#print(Price_Detail_list)\n",
    "\n",
    "Spec_Feature_list=[]\n",
    "Spec_features=soup.find('div',class_='specsTblNew')\n",
    "if Spec_features:\n",
    "    #all_specs=[ r.get_text() for r in Spec_features.find_all('tr')]\n",
    "    all_specs=Spec_features.find_all('tr')\n",
    "    for rows in all_specs:\n",
    "        row=rows.find_all('td')\n",
    "        for r in row:\n",
    "            for x in r.find_all('div',class_='tootTipCtr'):\n",
    "                x.decompose()\n",
    "            for y in r.find_all('span',class_='link hover wrongprice'):\n",
    "                y.decompose()\n",
    "            for z in r.find_all('i',class_='icon-deletearrow'):\n",
    "                z.append('No')\n",
    "            for k in r.find_all('i',class_='icon-check'):\n",
    "                k.append('Yes')\n",
    "            Spec_Feature_list.append(r.get_text(strip=True))\n",
    "\n",
    "#             for rt in r.find_all('div',class_='tootTipCtr'):\n",
    "#                 rt.decompose()\n",
    "#             print(row)\n",
    "#     for tag in all_specs.find_all('div',class_='tootTipCtr'):\n",
    "#         tag.decompose()\n",
    "# for specs in all_specs:\n",
    "#     for spec in specs:\n",
    "#         print(spec)\n",
    "#print(Spec_Feature_list)\n",
    "\n",
    "\n",
    "fetching_name= soup.find_all('div',class_='gsc_col-xs-12 gsc_col-sm-12 gsc_col-md-7 gsc_col-lg-7 overviewdetail')\n",
    "for model in fetching_name:\n",
    "    Car_name=model.find('h1',class_='displayInlineBlock')\n",
    "    Car_name\n",
    "    \n",
    "def listToString(s):\n",
    "    stg =\"\"\n",
    "    for x in s:\n",
    "        stg= stg + x + '\t'\n",
    "    return stg.rstrip()\n",
    "    \n",
    "car_details={}\n",
    "car_details['name']=Car_name.text\n",
    "car_details['price_details']=listToString(Price_Detail_list)\n",
    "car_details['top_features']=listToString(Top_Features_list)\n",
    "car_details['key_specs']=listToString(Key_Spec_list)\n",
    "car_details['all_features_and_specs']=listToString(Spec_Feature_list)\n",
    "\n",
    "# print(car_details['name'])\n",
    "# print(car_details['price_details'])\n",
    "# print(car_details['top_features'])\n",
    "# print(car_details['key_specs'])\n",
    "# print(car_details['all_features_and_specs'])\n",
    "\n",
    "car_details_df=pd.DataFrame([car_details])\n",
    "\n"
   ]
  },
  {
   "cell_type": "code",
   "execution_count": 472,
   "id": "25b5ec1c",
   "metadata": {},
   "outputs": [
    {
     "data": {
      "text/plain": [
       "{'name': 'Mahindra XUV700 MX 5Str',\n",
       " 'price_details': 'Ex-Showroom PriceRs.13,99,000\\tRTORs.1,39,900\\tInsuranceRs.83,172\\tOthersRs.13,990\\tOn-Road Price in New DelhiRs.16,36,062*',\n",
       " 'top_features': 'Digital Instrument Cluster\\tPowered Driver Seat',\n",
       " 'key_specs': 'Engine1999 cc\\tPower197 bhp\\tSeating Capacity5, 6, 7\\tDrive TypeFWD\\tMileage15 kmpl\\tFuelPetrol',\n",
       " 'all_features_and_specs': 'Engine Type\\tmStallion\\tDisplacement\\t1999 cc\\tMax Power\\t197bhp@5000rpm\\tMax Torque\\t380Nm@1750-3000rpm\\tNo. of Cylinders\\t4\\tValves Per Cylinder\\t4\\tTurbo Charger\\tYesYes\\tTransmission Type\\tManual\\tGearbox\\t6-Speed\\tDrive Type\\tFWD\\t\\tFuel Type\\tPetrol\\tPetrol Mileage ARAI\\t15 kmpl\\tPetrol Fuel Tank Capacity\\t60 Litres\\tEmission Norm Compliance\\tBS VI 2.0\\t\\tFront Suspension\\tMcPherson Strut Independent Suspension with FSD and Stabilizer bar\\tRear Suspension\\tMulti-link Independent Suspension with FSD and Stabilizer bar\\tSteering Column\\tTilt\\tFront Brake Type\\tVentilated Disc\\tRear Brake Type\\tSolid Disc\\t\\tLength\\t4695 mm\\tWidth\\t1890 mm\\tHeight\\t1755 mm\\tSeating Capacity\\t5\\tWheel Base\\t2750 mm\\tNo. of Doors\\t5\\t\\tPower Steering\\tYes\\tPower Windows-Front\\tYes\\tPower Windows-Rear\\tYes\\tAir Conditioner\\tYes\\tHeater\\tYes\\tAdjustable Steering\\tYes\\tHeight Adjustable Driver Seat\\tYes\\tVentilated Seats\\tNo\\tElectric Adjustable Seats\\tNo\\tAutomatic Climate Control\\tNo\\tAir Quality Control\\tNo\\tAccessory Power Outlet\\tYes\\tRear Reading Lamp\\tYes\\tRear Seat Headrest\\tYes\\tAdjustable Headrest\\tYes\\tRear Seat Centre Arm Rest\\tNo\\tHeight Adjustable Front Seat Belts\\tYes\\tCup Holders-Front\\tYes\\tCup Holders-Rear\\tNo\\tRear AC Vents\\tYes\\tHeated Seats Front\\tNo\\tHeated Seats - Rear\\tNo\\tCruise Control\\tNo\\tParking Sensors\\tRear\\tFoldable Rear Seat\\tBench Folding\\tEngine Start/Stop Button\\tNo\\tUSB Charger\\tFront & Rear\\tCentral Console Armrest\\tWith Storage\\tTailgate Ajar Warning\\tYes\\tHands-Free Tailgate\\tNo\\tGear Shift Indicator\\tYes\\tLuggage Hook & Net\\tYes\\tBattery Saver\\tYes\\tIdle Start-Stop System\\tYes\\tAutomatic Headlamps\\tNo\\tFollow Me Home Headlamps\\tYes\\tAdditional Features\\tMicroHybrid Technology, Air dam\\t\\tTachometer\\tYes\\tLeather Wrapped Steering Wheel\\tNo\\tLeather wrap gear-shift selector\\tNo\\tGlove Box\\tYes\\tCigarette Lighter\\tNo\\tFolding Table in The Rear\\tNo\\tAdditional Features\\tUSB in 1st and C-Type in 2nd row\\tDigital Cluster\\tYes\\tDigital Cluster Size\\t7\\tUpholstery\\tFabric\\t\\tAdjustable Headlamps\\tYes\\tPower Adjustable Exterior Rear View Mirror\\tYes\\tManually Adjustable Ext. Rear View Mirror\\tNo\\tElectric Folding Rear View Mirror\\tNo\\tRain Sensing Wiper\\tNo\\tRear Window Wiper\\tNo\\tRear Window Washer\\tNo\\tRear Window Defogger\\tNo\\tWheel Covers\\tYes\\tAlloy Wheels\\tNo\\tRear Spoiler\\tYes\\tIntegrated Antenna\\tYes\\tChrome Grille\\tYes\\tChrome Garnish\\tYes\\tHalogen Headlamps\\tYes\\tCornering Headlamps\\tNo\\tRoof Rails\\tYes\\tFog Lights\\tNo\\tAntenna\\tPole Type\\tConvertible Top\\tNo\\tSunroof\\tNo\\tTyre Size\\t235/65 R17\\tTyre Type\\tRadial Tubeless\\tWheel Size\\t17 Inch\\tLED DRLs\\tNo\\tLED Headlamps\\tNo\\tLED Taillights\\tYes\\tAdditional Features\\tSmart Door handles\\t\\tAnti-lock Braking System (ABS)\\tYes\\tCentral Locking\\tYes\\tChild Safety Locks\\tYes\\tNo. of Airbags\\t2\\tDriver Airbag\\tYes\\tPassenger Airbag\\tYes\\tSide Airbag\\tNo\\tSide Airbag-Rear\\tNo\\tCurtain Airbag\\tNo\\tSeat Belt Warning\\tYes\\tDoor Ajar Warning\\tYes\\tTyre Pressure Monitoring System (TPMS)\\tNo\\tEngine Immobilizer\\tYes\\tEletronic Stability Control (ESC)\\tNo\\tRear Camera\\tNo\\tSpeed Alert\\tYes\\tSpeed Sensing Auto Door Lock\\tYes\\tKnee Airbags\\tNo\\tISOFIX Child Seat Mounts\\tYes\\tHeads-Up Display (HUD)\\tNo\\tPretensioners & Force Limiter Seatbelts\\tDriver and Passenger\\tHill Assist\\tYes\\tImpact Sensing Auto Door Unlock\\tYes\\t360 View Camera\\tNo\\t\\tRadio\\tYes\\tSpeakers Front\\tYes\\tSpeakers Rear\\tYes\\tWireless Phone Charging\\tNo\\tBluetooth Connectivity\\tYes\\tTouchscreen\\tYes\\tTouchscreen Size\\t8 inch\\tConnectivity\\tApple CarPlay\\tAndroid Auto\\tYes\\tApple CarPlay\\tNo\\tNo. of Speakers\\t4\\tUsb Ports\\tYes\\t\\tForward Collision Warning\\tNo\\tAutomatic Emergency Braking\\tNo\\tTraffic Sign Recognition\\tNo\\tLane Departure Warning\\tNo\\tLane Keep Assist\\tNo\\tDriver Attention Warning\\tNo\\tAdaptive Cruise Control\\tNo\\tAdaptive High Beam Assist\\tNo\\tBlind Spot Monitor\\tNo\\t\\tLive Location\\tNo\\tNavigation with Live Traffic\\tNo\\tE-Call & I-Call\\tNo\\tGoogle / Alexa Connectivity\\tNo\\tSOS Button\\tNo\\tRSA\\tNo\\tValet Mode\\tNo\\tSOS / Emergency Assistance\\tNo'}"
      ]
     },
     "execution_count": 472,
     "metadata": {},
     "output_type": "execute_result"
    }
   ],
   "source": [
    "car_details"
   ]
  },
  {
   "cell_type": "code",
   "execution_count": null,
   "id": "54414b51",
   "metadata": {},
   "outputs": [],
   "source": [
    "Top Features Done//\n",
    "Key Spec Done//\n",
    "Price Done//\n"
   ]
  },
  {
   "cell_type": "code",
   "execution_count": 180,
   "id": "70b24d94",
   "metadata": {},
   "outputs": [
    {
     "name": "stdout",
     "output_type": "stream",
     "text": [
      "Ex-Showroom Price: 1134999\n",
      "RTO: 146675\n"
     ]
    },
    {
     "ename": "NameError",
     "evalue": "name 'insurance_price' is not defined",
     "output_type": "error",
     "traceback": [
      "\u001b[0;31m---------------------------------------------------------------------------\u001b[0m",
      "\u001b[0;31mNameError\u001b[0m                                 Traceback (most recent call last)",
      "Input \u001b[0;32mIn [180]\u001b[0m, in \u001b[0;36m<cell line: 27>\u001b[0;34m()\u001b[0m\n\u001b[1;32m     25\u001b[0m \u001b[38;5;28mprint\u001b[39m(\u001b[38;5;124mf\u001b[39m\u001b[38;5;124m\"\u001b[39m\u001b[38;5;124mEx-Showroom Price: \u001b[39m\u001b[38;5;132;01m{\u001b[39;00mex_showroom_price\u001b[38;5;132;01m}\u001b[39;00m\u001b[38;5;124m\"\u001b[39m)\n\u001b[1;32m     26\u001b[0m \u001b[38;5;28mprint\u001b[39m(\u001b[38;5;124mf\u001b[39m\u001b[38;5;124m\"\u001b[39m\u001b[38;5;124mRTO: \u001b[39m\u001b[38;5;132;01m{\u001b[39;00mrto_price\u001b[38;5;132;01m}\u001b[39;00m\u001b[38;5;124m\"\u001b[39m)\n\u001b[0;32m---> 27\u001b[0m \u001b[38;5;28mprint\u001b[39m(\u001b[38;5;124mf\u001b[39m\u001b[38;5;124m\"\u001b[39m\u001b[38;5;124mInsurance: \u001b[39m\u001b[38;5;132;01m{\u001b[39;00minsurance_price\u001b[38;5;132;01m}\u001b[39;00m\u001b[38;5;124m\"\u001b[39m)\n\u001b[1;32m     28\u001b[0m \u001b[38;5;28mprint\u001b[39m(\u001b[38;5;124mf\u001b[39m\u001b[38;5;124m\"\u001b[39m\u001b[38;5;124mInsurance: \u001b[39m\u001b[38;5;132;01m{\u001b[39;00minsurance_price\u001b[38;5;132;01m}\u001b[39;00m\u001b[38;5;124m\"\u001b[39m)\n\u001b[1;32m     29\u001b[0m \u001b[38;5;28mprint\u001b[39m(\u001b[38;5;124mf\u001b[39m\u001b[38;5;124m\"\u001b[39m\u001b[38;5;124mInsurance: \u001b[39m\u001b[38;5;132;01m{\u001b[39;00minsurance_price\u001b[38;5;132;01m}\u001b[39;00m\u001b[38;5;124m\"\u001b[39m)\n",
      "\u001b[0;31mNameError\u001b[0m: name 'insurance_price' is not defined"
     ]
    }
   ],
   "source": [
    "Price_tag = soup.find('section', id='OnRoadPrice')\n",
    "\n",
    "# Extracting specific data from the table rows\n",
    "ex_showroom_price = None\n",
    "rto_price = None\n",
    "\n",
    "if section_tag:\n",
    "    rows = section_tag.find_all('tr')\n",
    "    \n",
    "    for row in rows:\n",
    "        cols = row.find_all('td')\n",
    "        if len(cols) == 2:\n",
    "            label = cols[0].text.strip()\n",
    "            value = cols[1].text.strip().replace('Rs.', '').replace(',', '')\n",
    "            \n",
    "            if label == 'Ex-Showroom Price':\n",
    "                ex_showroom_price = value\n",
    "            elif label == 'RTO':\n",
    "                rto_price = value\n",
    "            elif label == 'Insurance':\n",
    "                insurance_price = value\n",
    "            elif label == 'Others':\n",
    "                other_price = value\n",
    "\n",
    "print(f\"Ex-Showroom Price: {ex_showroom_price}\")\n",
    "print(f\"RTO: {rto_price}\")\n",
    "print(f\"Insurance: {insurance_price}\")\n",
    "print(f\"Insurance: {insurance_price}\")\n",
    "print(f\"Insurance: {insurance_price}\")"
   ]
  },
  {
   "cell_type": "code",
   "execution_count": 263,
   "id": "25648688",
   "metadata": {},
   "outputs": [
    {
     "data": {
      "text/plain": [
       "dict"
      ]
     },
     "execution_count": 263,
     "metadata": {},
     "output_type": "execute_result"
    }
   ],
   "source": [
    "f={}\n",
    "type(f)"
   ]
  },
  {
   "cell_type": "code",
   "execution_count": 488,
   "id": "c60333f8",
   "metadata": {},
   "outputs": [
    {
     "name": "stdout",
     "output_type": "stream",
     "text": [
      "[{'a': 4, 'b': 5}, {'a': 1, 'b': 2}]\n"
     ]
    }
   ],
   "source": [
    "import pandas as pd\n",
    "\n",
    "dic={'a':1,'b':2}\n",
    "\n",
    "li=[{'a':4,'b':5}]\n",
    "\n",
    "li.append(dic)\n",
    "\n",
    "print(li)"
   ]
  },
  {
   "cell_type": "code",
   "execution_count": 489,
   "id": "84dff21c",
   "metadata": {},
   "outputs": [
    {
     "name": "stdout",
     "output_type": "stream",
     "text": [
      "[{'a': 4, 'b': 5}, {'a': 1, 'b': 2}]\n"
     ]
    }
   ],
   "source": [
    "\n",
    "lili=[]\n",
    "\n",
    "lili.extend(li)\n",
    "\n",
    "print(lili)"
   ]
  },
  {
   "cell_type": "code",
   "execution_count": 490,
   "id": "60bb622f",
   "metadata": {},
   "outputs": [
    {
     "name": "stdout",
     "output_type": "stream",
     "text": [
      "   a  b\n",
      "0  4  5\n",
      "1  1  2\n"
     ]
    }
   ],
   "source": [
    "# Creating the first Dataframe using dictionary\n",
    "df = pd.DataFrame(lili)\n",
    "\n",
    "print(df)"
   ]
  },
  {
   "cell_type": "code",
   "execution_count": null,
   "id": "b603230e",
   "metadata": {},
   "outputs": [],
   "source": []
  }
 ],
 "metadata": {
  "kernelspec": {
   "display_name": "Python 3 (ipykernel)",
   "language": "python",
   "name": "python3"
  },
  "language_info": {
   "codemirror_mode": {
    "name": "ipython",
    "version": 3
   },
   "file_extension": ".py",
   "mimetype": "text/x-python",
   "name": "python",
   "nbconvert_exporter": "python",
   "pygments_lexer": "ipython3",
   "version": "3.9.12"
  }
 },
 "nbformat": 4,
 "nbformat_minor": 5
}
